{
 "cells": [
  {
   "cell_type": "markdown",
   "metadata": {},
   "source": [
    "# 构建神经网络\n",
    "\n",
    "神经网络由对数据执行操作的层/模块组成。 `torch.nn` 命名空间提供了构建自己的神经网络所需的所有构件。PyTorch 中的每个模块都子类继承 `nn.Module`。神经网络本身就是一个由其他模块（层）组成的模块。这种嵌套结构可以轻松构建和管理复杂的架构。在下面的章节中，我们将构建一个神经网络，对 FashionMNIST 数据集中的图像进行分类。"
   ]
  },
  {
   "cell_type": "code",
   "execution_count": 2,
   "metadata": {},
   "outputs": [],
   "source": [
    "import os\n",
    "import torch\n",
    "from torch import nn\n",
    "from torch.utils.data import DataLoader\n",
    "from torchvision import datasets, transforms"
   ]
  },
  {
   "cell_type": "markdown",
   "metadata": {},
   "source": [
    "## 获取训练的设备\n",
    "\n",
    "我们希望能在 GPU 或 MPS 等硬件加速器（如果可用）上训练我们的模型。让我们检查一下 `torch.cuda` 或 `torch.backends.mps` 是否可用，否则我们就使用 CPU。"
   ]
  },
  {
   "cell_type": "code",
   "execution_count": 3,
   "metadata": {},
   "outputs": [
    {
     "name": "stdout",
     "output_type": "stream",
     "text": [
      "Using cuda device\n"
     ]
    },
    {
     "name": "stderr",
     "output_type": "stream",
     "text": [
      "[ROCT-Thunk-Interface/src/hymgr.c:309, WARNING]: Version mismatch\n"
     ]
    }
   ],
   "source": [
    "device = (\n",
    "    \"cuda\"\n",
    "    if torch.cuda.is_available()\n",
    "    else \"mps\"\n",
    "    if torch.backends.mps.is_available()\n",
    "    else \"cpu\"\n",
    ")\n",
    "print(f\"Using {device} device\")"
   ]
  },
  {
   "cell_type": "markdown",
   "metadata": {},
   "source": [
    "## 定义类\n",
    "\n",
    "我们通过子类继承 `nn.Module` 来定义神经网络，并在 `__init__` 中初始化神经网络层。每个 `nn.Module` 子类都在 `forward` 方法中实现对输入数据的操作。"
   ]
  },
  {
   "cell_type": "code",
   "execution_count": 4,
   "metadata": {},
   "outputs": [],
   "source": [
    "class NeuralNetwork(nn.Module):\n",
    "    def __init__(self):\n",
    "        super().__init__()\n",
    "        self.flatten = nn.Flatten()\n",
    "        self.linear_relu_stack = nn.Sequential(\n",
    "            nn.Linear(28*28, 512),\n",
    "            nn.ReLU(),\n",
    "            nn.Linear(512, 512),\n",
    "            nn.ReLU(),\n",
    "            nn.Linear(512, 10),\n",
    "        )\n",
    "\n",
    "    def forward(self, x):\n",
    "        x = self.flatten(x)\n",
    "        logits = self.linear_relu_stack(x)\n",
    "        return logits"
   ]
  },
  {
   "cell_type": "markdown",
   "metadata": {},
   "source": [
    "我们创建一个 `NeuralNetwork` 实例，将其移动到设备上并打印其结构。"
   ]
  },
  {
   "cell_type": "code",
   "execution_count": 5,
   "metadata": {},
   "outputs": [
    {
     "name": "stdout",
     "output_type": "stream",
     "text": [
      "NeuralNetwork(\n",
      "  (flatten): Flatten(start_dim=1, end_dim=-1)\n",
      "  (linear_relu_stack): Sequential(\n",
      "    (0): Linear(in_features=784, out_features=512, bias=True)\n",
      "    (1): ReLU()\n",
      "    (2): Linear(in_features=512, out_features=512, bias=True)\n",
      "    (3): ReLU()\n",
      "    (4): Linear(in_features=512, out_features=10, bias=True)\n",
      "  )\n",
      ")\n"
     ]
    }
   ],
   "source": [
    "model = NeuralNetwork().to(device)\n",
    "print(model)"
   ]
  },
  {
   "cell_type": "markdown",
   "metadata": {},
   "source": [
    "要使用模型，我们需要将输入数据传递给它。这将执行模型的 `forward` 以及一些后台操作。不要直接调用 `model.forward()`！"
   ]
  },
  {
   "cell_type": "markdown",
   "metadata": {},
   "source": [
    "在输入上调用模型会返回一个二维张量，其中 `dim=0` 对应于每个类的 10 个原始预测值中的每个输出，`dim=1` 对应于每个输出的单独值。我们通过 `nn.Softmax` 模块的实例来获取预测概率。"
   ]
  },
  {
   "cell_type": "code",
   "execution_count": 6,
   "metadata": {},
   "outputs": [
    {
     "name": "stdout",
     "output_type": "stream",
     "text": [
      "Predicted class: tensor([4], device='cuda:0')\n"
     ]
    }
   ],
   "source": [
    "X = torch.rand(1, 28, 28, device=device)\n",
    "logits = model(X)\n",
    "pred_probab = nn.Softmax(dim=1)(logits)\n",
    "y_pred = pred_probab.argmax(1)\n",
    "print(f\"Predicted class: {y_pred}\")"
   ]
  },
  {
   "cell_type": "markdown",
   "metadata": {},
   "source": [
    "## 模型层\n",
    "\n",
    "让我们来分解一下 FashionMNIST 模型的各个层。为了说明这一点，我们将以 3 幅大小为 28x28 的图像为样本，看看在通过网络时会发生什么。"
   ]
  },
  {
   "cell_type": "code",
   "execution_count": 7,
   "metadata": {},
   "outputs": [
    {
     "name": "stdout",
     "output_type": "stream",
     "text": [
      "torch.Size([3, 28, 28])\n"
     ]
    }
   ],
   "source": [
    "input_image = torch.rand(3,28,28)\n",
    "print(input_image.size())"
   ]
  },
  {
   "cell_type": "markdown",
   "metadata": {},
   "source": [
    "### `nn.Flatten`\n",
    "\n",
    "我们对 `nn.Flatten` 层进行初始化，将每幅 28x28 的二维图像转换成一个包含 784 个像素值的连续数组（保持最小批次维度（dim=0））。"
   ]
  },
  {
   "cell_type": "code",
   "execution_count": 8,
   "metadata": {},
   "outputs": [
    {
     "name": "stdout",
     "output_type": "stream",
     "text": [
      "torch.Size([3, 784])\n"
     ]
    }
   ],
   "source": [
    "flatten = nn.Flatten()\n",
    "flat_image = flatten(input_image)\n",
    "print(flat_image.size())"
   ]
  },
  {
   "cell_type": "markdown",
   "metadata": {},
   "source": [
    "### `nn.Linear`\n",
    "\n",
    "线性层是一个利用其存储的**权重**和**偏置**对输入进行线性变换的模块。"
   ]
  },
  {
   "cell_type": "code",
   "execution_count": 9,
   "metadata": {},
   "outputs": [
    {
     "name": "stdout",
     "output_type": "stream",
     "text": [
      "torch.Size([3, 20])\n"
     ]
    }
   ],
   "source": [
    "layer1 = nn.Linear(in_features=28*28, out_features=20)\n",
    "hidden1 = layer1(flat_image)\n",
    "print(hidden1.size())"
   ]
  },
  {
   "cell_type": "markdown",
   "metadata": {},
   "source": [
    "### `nn.ReLU`\n",
    "\n",
    "非线性激活可以在模型的输入和输出之间建立复杂的映射关系。它们应用于线性变换之后，以引入非线性，帮助神经网络学习各种现象。"
   ]
  },
  {
   "cell_type": "markdown",
   "metadata": {},
   "source": [
    "在这个模型中，我们在线性层之间使用了 `nn.ReLU`，但还有其他激活方式可以在模型中引入非线性。"
   ]
  },
  {
   "cell_type": "code",
   "execution_count": 10,
   "metadata": {},
   "outputs": [
    {
     "name": "stdout",
     "output_type": "stream",
     "text": [
      "Before ReLU: tensor([[ 0.1658, -0.1091,  0.7256,  0.0902, -0.3689,  0.1786,  0.5108, -0.4763,\n",
      "          0.1220,  0.2876,  0.0839,  0.2953,  0.3428, -0.5491,  0.6158,  0.0958,\n",
      "         -0.5334,  0.5270, -0.3253,  0.3302],\n",
      "        [ 0.0821,  0.0367,  0.8428,  0.1197, -0.2776, -0.3507,  0.1103, -0.1259,\n",
      "         -0.0427,  0.2837,  0.2168,  0.1771,  0.5137, -0.4644,  0.6042,  0.1068,\n",
      "         -0.3798,  0.6505, -0.3315,  0.2943],\n",
      "        [ 0.2987,  0.0610,  0.2093,  0.2466, -0.7297, -0.0776, -0.0964, -0.1722,\n",
      "         -0.1917,  0.2947,  0.0055,  0.0557,  0.1988, -0.4674,  0.3372,  0.2811,\n",
      "         -0.5890,  0.8371, -0.4154,  0.2451]], grad_fn=<AddmmBackward0>)\n",
      "\n",
      "\n",
      "After ReLU: tensor([[0.1658, 0.0000, 0.7256, 0.0902, 0.0000, 0.1786, 0.5108, 0.0000, 0.1220,\n",
      "         0.2876, 0.0839, 0.2953, 0.3428, 0.0000, 0.6158, 0.0958, 0.0000, 0.5270,\n",
      "         0.0000, 0.3302],\n",
      "        [0.0821, 0.0367, 0.8428, 0.1197, 0.0000, 0.0000, 0.1103, 0.0000, 0.0000,\n",
      "         0.2837, 0.2168, 0.1771, 0.5137, 0.0000, 0.6042, 0.1068, 0.0000, 0.6505,\n",
      "         0.0000, 0.2943],\n",
      "        [0.2987, 0.0610, 0.2093, 0.2466, 0.0000, 0.0000, 0.0000, 0.0000, 0.0000,\n",
      "         0.2947, 0.0055, 0.0557, 0.1988, 0.0000, 0.3372, 0.2811, 0.0000, 0.8371,\n",
      "         0.0000, 0.2451]], grad_fn=<ReluBackward0>)\n"
     ]
    }
   ],
   "source": [
    "print(f\"Before ReLU: {hidden1}\\n\\n\")\n",
    "hidden1 = nn.ReLU()(hidden1)\n",
    "print(f\"After ReLU: {hidden1}\")"
   ]
  },
  {
   "cell_type": "markdown",
   "metadata": {},
   "source": [
    "### `nn.Sequential`\n",
    "\n",
    "`nn.Sequential` 是一个有序的模块容器。数据按照定义的**相同顺序**通过所有模块。您可以使用顺序容器来组建一个快速网络，如 `seq_modules`。"
   ]
  },
  {
   "cell_type": "code",
   "execution_count": 11,
   "metadata": {},
   "outputs": [],
   "source": [
    "seq_modules = nn.Sequential(\n",
    "    flatten,\n",
    "    layer1,\n",
    "    nn.ReLU(),\n",
    "    nn.Linear(20, 10)\n",
    ")\n",
    "input_image = torch.rand(3,28,28)\n",
    "logits = seq_modules(input_image)"
   ]
  },
  {
   "cell_type": "markdown",
   "metadata": {},
   "source": [
    "### `nn.Softmax`\n",
    "\n",
    "神经网络的最后一层线性层返回 logits（原始值，单位为 [-infty，infty] ），并将其传递给 `nn.Softmax` 模块。`dim` 参数表示数值必须相加为 1 的维度。"
   ]
  },
  {
   "cell_type": "code",
   "execution_count": 12,
   "metadata": {},
   "outputs": [],
   "source": [
    "softmax = nn.Softmax(dim=1)\n",
    "pred_probab = softmax(logits)"
   ]
  },
  {
   "cell_type": "markdown",
   "metadata": {},
   "source": [
    "## 模型参数\n",
    "\n",
    "神经网络中的许多层都是参数化的，即在训练过程中优化相关的权重和偏置。子类化 `nn.Module` 会自动跟踪模型对象内定义的所有字段，并使用模型的 `parameters()` 或 `named_parameters()` 方法访问所有参数。"
   ]
  },
  {
   "cell_type": "markdown",
   "metadata": {},
   "source": [
    "在本例中，我们遍历每个参数，并打印其大小和数值预览。"
   ]
  },
  {
   "cell_type": "code",
   "execution_count": 13,
   "metadata": {},
   "outputs": [
    {
     "name": "stdout",
     "output_type": "stream",
     "text": [
      "Model structure: NeuralNetwork(\n",
      "  (flatten): Flatten(start_dim=1, end_dim=-1)\n",
      "  (linear_relu_stack): Sequential(\n",
      "    (0): Linear(in_features=784, out_features=512, bias=True)\n",
      "    (1): ReLU()\n",
      "    (2): Linear(in_features=512, out_features=512, bias=True)\n",
      "    (3): ReLU()\n",
      "    (4): Linear(in_features=512, out_features=10, bias=True)\n",
      "  )\n",
      ")\n",
      "\n",
      "\n",
      "Layer: linear_relu_stack.0.weight | Size: torch.Size([512, 784]) | Values : tensor([[-0.0190, -0.0101, -0.0104,  ...,  0.0207,  0.0292,  0.0155],\n",
      "        [ 0.0323, -0.0250, -0.0064,  ...,  0.0035, -0.0086,  0.0038]],\n",
      "       device='cuda:0', grad_fn=<SliceBackward0>) \n",
      "\n",
      "Layer: linear_relu_stack.0.bias | Size: torch.Size([512]) | Values : tensor([-0.0089, -0.0057], device='cuda:0', grad_fn=<SliceBackward0>) \n",
      "\n",
      "Layer: linear_relu_stack.2.weight | Size: torch.Size([512, 512]) | Values : tensor([[-0.0359,  0.0021, -0.0428,  ...,  0.0146, -0.0092,  0.0088],\n",
      "        [-0.0234, -0.0034,  0.0125,  ..., -0.0109,  0.0309,  0.0173]],\n",
      "       device='cuda:0', grad_fn=<SliceBackward0>) \n",
      "\n",
      "Layer: linear_relu_stack.2.bias | Size: torch.Size([512]) | Values : tensor([ 0.0380, -0.0325], device='cuda:0', grad_fn=<SliceBackward0>) \n",
      "\n",
      "Layer: linear_relu_stack.4.weight | Size: torch.Size([10, 512]) | Values : tensor([[ 0.0264, -0.0133,  0.0104,  ...,  0.0175,  0.0243,  0.0081],\n",
      "        [-0.0173, -0.0181, -0.0386,  ...,  0.0225, -0.0126, -0.0211]],\n",
      "       device='cuda:0', grad_fn=<SliceBackward0>) \n",
      "\n",
      "Layer: linear_relu_stack.4.bias | Size: torch.Size([10]) | Values : tensor([ 0.0055, -0.0010], device='cuda:0', grad_fn=<SliceBackward0>) \n",
      "\n"
     ]
    }
   ],
   "source": [
    "print(f\"Model structure: {model}\\n\\n\")\n",
    "\n",
    "for name, param in model.named_parameters():\n",
    "    print(f\"Layer: {name} | Size: {param.size()} | Values : {param[:2]} \\n\")"
   ]
  },
  {
   "cell_type": "markdown",
   "metadata": {},
   "source": [
    "## Further Reading\n",
    "\n",
    "+ [`torch.nn API`](https://pytorch.org/docs/stable/nn.html)"
   ]
  }
 ],
 "metadata": {
  "kernelspec": {
   "display_name": "Python 3",
   "language": "python",
   "name": "python3"
  },
  "language_info": {
   "codemirror_mode": {
    "name": "ipython",
    "version": 3
   },
   "file_extension": ".py",
   "mimetype": "text/x-python",
   "name": "python",
   "nbconvert_exporter": "python",
   "pygments_lexer": "ipython3",
   "version": "3.10.6"
  }
 },
 "nbformat": 4,
 "nbformat_minor": 2
}
