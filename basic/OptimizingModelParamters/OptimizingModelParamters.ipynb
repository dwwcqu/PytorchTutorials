{
 "cells": [
  {
   "cell_type": "markdown",
   "metadata": {},
   "source": [
    "# 优化模型参数\n",
    "\n",
    "现在我们有了模型和数据，是时候通过优化数据参数来训练、验证和测试我们的模型了。训练模型是一个迭代的过程；在每一次迭代中，模型都会对输出进行猜测，计算猜测的误差（损失），收集误差相对于其参数的导数（正如我们在上一节中所看到的），并使用梯度下降法优化这些参数。如需了解这一过程的更多细节，请观看 3Blue1Brown 提供的[反向传播视频](https://www.youtube.com/watch?v=tIeHLnjs5U8)。"
   ]
  },
  {
   "cell_type": "markdown",
   "metadata": {},
   "source": [
    "## 依赖代码\n",
    "\n",
    "我们从前面的[数据集和数据加载器](../DatasetsDataLoaders/datasets.ipynb)以及[构建模型](../BuildModel/build_model.ipynb)部分加载代码。"
   ]
  },
  {
   "cell_type": "code",
   "execution_count": 1,
   "metadata": {},
   "outputs": [
    {
     "name": "stderr",
     "output_type": "stream",
     "text": [
      "/usr/local/lib/python3.10/dist-packages/tqdm/auto.py:21: TqdmWarning: IProgress not found. Please update jupyter and ipywidgets. See https://ipywidgets.readthedocs.io/en/stable/user_install.html\n",
      "  from .autonotebook import tqdm as notebook_tqdm\n"
     ]
    },
    {
     "name": "stdout",
     "output_type": "stream",
     "text": [
      "Downloading http://fashion-mnist.s3-website.eu-central-1.amazonaws.com/train-images-idx3-ubyte.gz\n",
      "Downloading http://fashion-mnist.s3-website.eu-central-1.amazonaws.com/train-images-idx3-ubyte.gz to data/FashionMNIST/raw/train-images-idx3-ubyte.gz\n"
     ]
    },
    {
     "name": "stderr",
     "output_type": "stream",
     "text": [
      "100%|██████████| 26421880/26421880 [00:03<00:00, 7618927.33it/s] \n"
     ]
    },
    {
     "name": "stdout",
     "output_type": "stream",
     "text": [
      "Extracting data/FashionMNIST/raw/train-images-idx3-ubyte.gz to data/FashionMNIST/raw\n",
      "\n",
      "Downloading http://fashion-mnist.s3-website.eu-central-1.amazonaws.com/train-labels-idx1-ubyte.gz\n",
      "Downloading http://fashion-mnist.s3-website.eu-central-1.amazonaws.com/train-labels-idx1-ubyte.gz to data/FashionMNIST/raw/train-labels-idx1-ubyte.gz\n"
     ]
    },
    {
     "name": "stderr",
     "output_type": "stream",
     "text": [
      "100%|██████████| 29515/29515 [00:00<00:00, 213701.05it/s]\n"
     ]
    },
    {
     "name": "stdout",
     "output_type": "stream",
     "text": [
      "Extracting data/FashionMNIST/raw/train-labels-idx1-ubyte.gz to data/FashionMNIST/raw\n",
      "\n",
      "Downloading http://fashion-mnist.s3-website.eu-central-1.amazonaws.com/t10k-images-idx3-ubyte.gz\n",
      "Downloading http://fashion-mnist.s3-website.eu-central-1.amazonaws.com/t10k-images-idx3-ubyte.gz to data/FashionMNIST/raw/t10k-images-idx3-ubyte.gz\n"
     ]
    },
    {
     "name": "stderr",
     "output_type": "stream",
     "text": [
      "100%|██████████| 4422102/4422102 [00:01<00:00, 3455669.04it/s]\n"
     ]
    },
    {
     "name": "stdout",
     "output_type": "stream",
     "text": [
      "Extracting data/FashionMNIST/raw/t10k-images-idx3-ubyte.gz to data/FashionMNIST/raw\n",
      "\n",
      "Downloading http://fashion-mnist.s3-website.eu-central-1.amazonaws.com/t10k-labels-idx1-ubyte.gz\n",
      "Downloading http://fashion-mnist.s3-website.eu-central-1.amazonaws.com/t10k-labels-idx1-ubyte.gz to data/FashionMNIST/raw/t10k-labels-idx1-ubyte.gz\n"
     ]
    },
    {
     "name": "stderr",
     "output_type": "stream",
     "text": [
      "100%|██████████| 5148/5148 [00:00<00:00, 22657163.69it/s]\n"
     ]
    },
    {
     "name": "stdout",
     "output_type": "stream",
     "text": [
      "Extracting data/FashionMNIST/raw/t10k-labels-idx1-ubyte.gz to data/FashionMNIST/raw\n",
      "\n"
     ]
    }
   ],
   "source": [
    "import torch\n",
    "from torch import nn\n",
    "from torch.utils.data import DataLoader\n",
    "from torchvision import datasets\n",
    "from torchvision.transforms import ToTensor\n",
    "\n",
    "training_data = datasets.FashionMNIST(\n",
    "    root=\"data\",\n",
    "    train=True,\n",
    "    download=True,\n",
    "    transform=ToTensor()\n",
    ")\n",
    "\n",
    "test_data = datasets.FashionMNIST(\n",
    "    root=\"data\",\n",
    "    train=False,\n",
    "    download=True,\n",
    "    transform=ToTensor()\n",
    ")\n",
    "\n",
    "train_dataloader = DataLoader(training_data, batch_size=64)\n",
    "test_dataloader = DataLoader(test_data, batch_size=64)\n",
    "\n",
    "class NeuralNetwork(nn.Module):\n",
    "    def __init__(self):\n",
    "        super().__init__()\n",
    "        self.flatten = nn.Flatten()\n",
    "        self.linear_relu_stack = nn.Sequential(\n",
    "            nn.Linear(28*28, 512),\n",
    "            nn.ReLU(),\n",
    "            nn.Linear(512, 512),\n",
    "            nn.ReLU(),\n",
    "            nn.Linear(512, 10),\n",
    "        )\n",
    "\n",
    "    def forward(self, x):\n",
    "        x = self.flatten(x)\n",
    "        logits = self.linear_relu_stack(x)\n",
    "        return logits\n",
    "\n",
    "model = NeuralNetwork()"
   ]
  },
  {
   "cell_type": "markdown",
   "metadata": {},
   "source": [
    "## 超参数\n",
    "\n",
    "超参数是可调参数，可让您控制模型优化过程。不同的超参数值会影响模型训练和收敛速度（了解有关超参数调整的[更多信息](https://pytorch.org/tutorials/beginner/hyperparameter_tuning_tutorial.html)）。 "
   ]
  },
  {
   "cell_type": "markdown",
   "metadata": {},
   "source": [
    "我们为训练定义了以下超参数：\n",
    "+ 时序数（Number of Epochs）- 在数据集上迭代的次数；\n",
    "+ 批量大小（Batch Size）- 在更新参数之前通过网络传播的数据样本数量；\n",
    "+ 学习率（Learning Rate）- 在每个批次/时序更新模型参数的数量。数值越小，学习速度越慢，而数值过大则可能导致训练过程中出现不可预测的行为；"
   ]
  },
  {
   "cell_type": "code",
   "execution_count": 2,
   "metadata": {},
   "outputs": [],
   "source": [
    "learning_rate = 1e-3\n",
    "batch_size = 64\n",
    "epochs = 5"
   ]
  },
  {
   "cell_type": "markdown",
   "metadata": {},
   "source": [
    "## 优化循环\n",
    "\n",
    "设置好超参数后，我们就可以通过优化循环来训练和优化模型。优化循环的每次迭代称为一个 Epoch。"
   ]
  },
  {
   "cell_type": "markdown",
   "metadata": {},
   "source": [
    "每个 Epoch 由两个主要部分组成：\n",
    "\n",
    "+ 训练循环 -- 遍历训练数据集，尝试收敛到最佳参数。\n",
    "+ 验证/测试循环--遍历测试数据集，检查模型性能是否在提高。"
   ]
  },
  {
   "cell_type": "markdown",
   "metadata": {},
   "source": [
    "让我们简单熟悉一下训练循环中使用的一些概念。跳转至优化循环的[完整实现](https://pytorch.org/tutorials/beginner/basics/optimization_tutorial.html#full-impl-label)。"
   ]
  },
  {
   "cell_type": "markdown",
   "metadata": {},
   "source": [
    "### 损失函数\n",
    "\n",
    "当遇到一些训练数据时，我们未经训练的网络很可能无法给出正确答案。损失函数衡量的是获得的结果与目标值的不相似程度，我们希望在训练过程中将损失函数最小化。为了计算损失，我们使用给定数据样本的输入进行预测，并与真实的数据标签值进行比较。\n",
    "\n",
    "常见的损失函数包括用于回归任务的 `nn.MSELoss`（均方误差）和用于分类的 `nn.NLLLoss`（负对数似然）。`nn.CrossEntropyLoss` 结合了 `nn.LogSoftmax` 和 `nn.NLLLoss`。\n",
    "\n",
    "我们将模型的输出 logits 传递给 `nn.CrossEntropyLoss`，它将对 logits 进行**归一化**，并计算预测误差。"
   ]
  },
  {
   "cell_type": "code",
   "execution_count": 3,
   "metadata": {},
   "outputs": [],
   "source": [
    "# 初始化损失函数\n",
    "loss_fn = nn.CrossEntropyLoss()"
   ]
  },
  {
   "cell_type": "markdown",
   "metadata": {},
   "source": [
    "### 优化器\n",
    "\n",
    "优化是在每个训练步骤中调整模型参数以减少模型误差的过程。优化算法定义了如何执行这一过程（在本例中，我们使用**随机梯度下降算法**）。所有优化逻辑都封装在优化器对象中。在这里，我们使用 SGD 优化器；此外，PyTorch 中还有许多不同的优化器，如 `ADAM` 和 `RMSProp`，它们对不同类型的模型和数据效果更好。\n",
    "\n",
    "我们通过注册需要训练的模型参数，并传递学习率、超参数来**初始化优化器**。"
   ]
  },
  {
   "cell_type": "code",
   "execution_count": 4,
   "metadata": {},
   "outputs": [],
   "source": [
    "optimizer = torch.optim.SGD(model.parameters(), lr=learning_rate)"
   ]
  },
  {
   "cell_type": "markdown",
   "metadata": {},
   "source": [
    "在训练循环中，优化分为三个步骤：\n",
    "\n",
    "+ 调用 `optimizer.zero_grad()` 重置模型参数的梯度。梯度默认是累加的；为了防止重复计算，我们在每次迭代时都明确地将梯度清零。\n",
    "+ 调用 `loss.backward()`，反向传播预测损失。PyTorch 将损失与每个参数相关的梯度沉淀下来。\n",
    "+ 一旦有了梯度，我们就调用 `optimizer.step()`，根据后向传递中收集的梯度来调整参数。"
   ]
  },
  {
   "cell_type": "markdown",
   "metadata": {},
   "source": [
    "## 完整实现\n",
    "\n",
    "我们定义了 `train_loop`（循环优化代码）和 `test_loop`（根据测试数据评估模型性能）。"
   ]
  },
  {
   "cell_type": "code",
   "execution_count": 5,
   "metadata": {},
   "outputs": [],
   "source": [
    "def train_loop(dataloader, model, loss_fn, optimizer):\n",
    "    size = len(dataloader.dataset)\n",
    "    # 将模型设置为训练模式，这对批量归一化和丢弃层很重要 \n",
    "    # 在这种情况下没有必要，但为最佳实践添加了这一功能\n",
    "    model.train()\n",
    "    for batch, (X, y) in enumerate(dataloader):\n",
    "        # 计算预测值和损失值\n",
    "        pred = model(X)\n",
    "        loss = loss_fn(pred, y)\n",
    "\n",
    "        # 反向传播\n",
    "        loss.backward()\n",
    "        optimizer.step()\n",
    "        optimizer.zero_grad()\n",
    "\n",
    "        if batch % 100 == 0:\n",
    "            loss, current = loss.item(), batch * batch_size + len(X)\n",
    "            print(f\"loss: {loss:>7f}  [{current:>5d}/{size:>5d}]\")\n",
    "\n",
    "\n",
    "def test_loop(dataloader, model, loss_fn):\n",
    "    # 将模型设置为评估模式，对批量归一化和 dropout 很重要 \n",
    "    # 在这种情况下没有必要，但为最佳实践而添加\n",
    "    model.eval()\n",
    "    size = len(dataloader.dataset)\n",
    "    num_batches = len(dataloader)\n",
    "    test_loss, correct = 0, 0\n",
    "\n",
    "    # 使用 torch.no_grad() 对模型进行评估，可确保在测试模式下不计算梯度 \n",
    "    # 还可减少不必要的梯度计算和内存使用，适用于 requires_grad=True 的张量因子\n",
    "    with torch.no_grad():\n",
    "        for X, y in dataloader:\n",
    "            pred = model(X)\n",
    "            test_loss += loss_fn(pred, y).item()\n",
    "            correct += (pred.argmax(1) == y).type(torch.float).sum().item()\n",
    "\n",
    "    test_loss /= num_batches\n",
    "    correct /= size\n",
    "    print(f\"Test Error: \\n Accuracy: {(100*correct):>0.1f}%, Avg loss: {test_loss:>8f} \\n\")"
   ]
  },
  {
   "cell_type": "markdown",
   "metadata": {},
   "source": [
    "我们将初始化损失函数和优化器，并将其传递给 `train_loop` 和 `test_loop`。请随意增加 `epoch` 次数，以跟踪模型性能的提高。"
   ]
  },
  {
   "cell_type": "code",
   "execution_count": 6,
   "metadata": {},
   "outputs": [
    {
     "name": "stdout",
     "output_type": "stream",
     "text": [
      "Epoch 1\n",
      "--------------------------------\n",
      "loss: 2.307146  [   64/60000]\n"
     ]
    },
    {
     "name": "stderr",
     "output_type": "stream",
     "text": [
      "[ROCT-Thunk-Interface/src/hymgr.c:309, WARNING]: Version mismatch\n"
     ]
    },
    {
     "name": "stdout",
     "output_type": "stream",
     "text": [
      "loss: 2.289888  [ 6464/60000]\n",
      "loss: 2.269248  [12864/60000]\n",
      "loss: 2.259783  [19264/60000]\n",
      "loss: 2.245266  [25664/60000]\n",
      "loss: 2.219535  [32064/60000]\n",
      "loss: 2.226249  [38464/60000]\n",
      "loss: 2.193237  [44864/60000]\n",
      "loss: 2.183918  [51264/60000]\n",
      "loss: 2.150151  [57664/60000]\n",
      "Test Error: \n",
      " Accuracy: 41.1%, Avg loss: 2.146558 \n",
      "\n",
      "Epoch 2\n",
      "--------------------------------\n",
      "loss: 2.162424  [   64/60000]\n",
      "loss: 2.147504  [ 6464/60000]\n",
      "loss: 2.087000  [12864/60000]\n",
      "loss: 2.104644  [19264/60000]\n",
      "loss: 2.044930  [25664/60000]\n",
      "loss: 1.993416  [32064/60000]\n",
      "loss: 2.019670  [38464/60000]\n",
      "loss: 1.936099  [44864/60000]\n",
      "loss: 1.940492  [51264/60000]\n",
      "loss: 1.864422  [57664/60000]\n",
      "Test Error: \n",
      " Accuracy: 59.7%, Avg loss: 1.862761 \n",
      "\n",
      "Epoch 3\n",
      "--------------------------------\n",
      "loss: 1.901004  [   64/60000]\n",
      "loss: 1.867206  [ 6464/60000]\n",
      "loss: 1.744931  [12864/60000]\n",
      "loss: 1.790872  [19264/60000]\n",
      "loss: 1.665342  [25664/60000]\n",
      "loss: 1.631033  [32064/60000]\n",
      "loss: 1.649889  [38464/60000]\n",
      "loss: 1.542201  [44864/60000]\n",
      "loss: 1.573678  [51264/60000]\n",
      "loss: 1.466905  [57664/60000]\n",
      "Test Error: \n",
      " Accuracy: 61.3%, Avg loss: 1.483618 \n",
      "\n",
      "Epoch 4\n",
      "--------------------------------\n",
      "loss: 1.554445  [   64/60000]\n",
      "loss: 1.518338  [ 6464/60000]\n",
      "loss: 1.364182  [12864/60000]\n",
      "loss: 1.443740  [19264/60000]\n",
      "loss: 1.314425  [25664/60000]\n",
      "loss: 1.321607  [32064/60000]\n",
      "loss: 1.334286  [38464/60000]\n",
      "loss: 1.244512  [44864/60000]\n",
      "loss: 1.291468  [51264/60000]\n",
      "loss: 1.194109  [57664/60000]\n",
      "Test Error: \n",
      " Accuracy: 63.6%, Avg loss: 1.218045 \n",
      "\n",
      "Epoch 5\n",
      "--------------------------------\n",
      "loss: 1.293965  [   64/60000]\n",
      "loss: 1.278271  [ 6464/60000]\n",
      "loss: 1.107466  [12864/60000]\n",
      "loss: 1.224883  [19264/60000]\n",
      "loss: 1.096314  [25664/60000]\n",
      "loss: 1.125067  [32064/60000]\n",
      "loss: 1.147004  [38464/60000]\n",
      "loss: 1.064914  [44864/60000]\n",
      "loss: 1.118333  [51264/60000]\n",
      "loss: 1.037129  [57664/60000]\n",
      "Test Error: \n",
      " Accuracy: 65.1%, Avg loss: 1.057446 \n",
      "\n",
      "Epoch 6\n",
      "--------------------------------\n",
      "loss: 1.123067  [   64/60000]\n",
      "loss: 1.130924  [ 6464/60000]\n",
      "loss: 0.941802  [12864/60000]\n",
      "loss: 1.091083  [19264/60000]\n",
      "loss: 0.966080  [25664/60000]\n",
      "loss: 0.995589  [32064/60000]\n",
      "loss: 1.033894  [38464/60000]\n",
      "loss: 0.954072  [44864/60000]\n",
      "loss: 1.007675  [51264/60000]\n",
      "loss: 0.940407  [57664/60000]\n",
      "Test Error: \n",
      " Accuracy: 66.2%, Avg loss: 0.956062 \n",
      "\n",
      "Epoch 7\n",
      "--------------------------------\n",
      "loss: 1.007019  [   64/60000]\n",
      "loss: 1.037896  [ 6464/60000]\n",
      "loss: 0.831127  [12864/60000]\n",
      "loss: 1.003057  [19264/60000]\n",
      "loss: 0.886142  [25664/60000]\n",
      "loss: 0.906839  [32064/60000]\n",
      "loss: 0.961455  [38464/60000]\n",
      "loss: 0.884100  [44864/60000]\n",
      "loss: 0.932699  [51264/60000]\n",
      "loss: 0.876958  [57664/60000]\n",
      "Test Error: \n",
      " Accuracy: 67.6%, Avg loss: 0.888296 \n",
      "\n",
      "Epoch 8\n",
      "--------------------------------\n",
      "loss: 0.924122  [   64/60000]\n",
      "loss: 0.974850  [ 6464/60000]\n",
      "loss: 0.753695  [12864/60000]\n",
      "loss: 0.941739  [19264/60000]\n",
      "loss: 0.833810  [25664/60000]\n",
      "loss: 0.843611  [32064/60000]\n",
      "loss: 0.911324  [38464/60000]\n",
      "loss: 0.838628  [44864/60000]\n",
      "loss: 0.879449  [51264/60000]\n",
      "loss: 0.832050  [57664/60000]\n",
      "Test Error: \n",
      " Accuracy: 68.9%, Avg loss: 0.840163 \n",
      "\n",
      "Epoch 9\n",
      "--------------------------------\n",
      "loss: 0.861637  [   64/60000]\n",
      "loss: 0.928117  [ 6464/60000]\n",
      "loss: 0.696995  [12864/60000]\n",
      "loss: 0.896700  [19264/60000]\n",
      "loss: 0.797041  [25664/60000]\n",
      "loss: 0.796828  [32064/60000]\n",
      "loss: 0.873633  [38464/60000]\n",
      "loss: 0.807628  [44864/60000]\n",
      "loss: 0.839966  [51264/60000]\n",
      "loss: 0.798155  [57664/60000]\n",
      "Test Error: \n",
      " Accuracy: 70.1%, Avg loss: 0.803817 \n",
      "\n",
      "Epoch 10\n",
      "--------------------------------\n",
      "loss: 0.812329  [   64/60000]\n",
      "loss: 0.890723  [ 6464/60000]\n",
      "loss: 0.653317  [12864/60000]\n",
      "loss: 0.861954  [19264/60000]\n",
      "loss: 0.769110  [25664/60000]\n",
      "loss: 0.760996  [32064/60000]\n",
      "loss: 0.843227  [38464/60000]\n",
      "loss: 0.785094  [44864/60000]\n",
      "loss: 0.809186  [51264/60000]\n",
      "loss: 0.771413  [57664/60000]\n",
      "Test Error: \n",
      " Accuracy: 71.4%, Avg loss: 0.774810 \n",
      "\n",
      "Done!\n"
     ]
    }
   ],
   "source": [
    "epochs = 10\n",
    "\n",
    "for t in range(epochs):\n",
    "    print(f\"Epoch {t+1}\\n--------------------------------\")\n",
    "    train_loop(train_dataloader, model, loss_fn, optimizer)\n",
    "    test_loop(test_dataloader, model, loss_fn)\n",
    "print(\"Done!\")"
   ]
  },
  {
   "cell_type": "markdown",
   "metadata": {},
   "source": [
    "## Further Reading\n",
    "\n",
    "+ [损失函数](https://pytorch.org/docs/stable/nn.html#loss-functions)\n",
    "+ [torch.optim](https://pytorch.org/docs/stable/optim.html)\n",
    "+ [热启动训练模型](https://pytorch.org/tutorials/recipes/recipes/warmstarting_model_using_parameters_from_a_different_model.html)"
   ]
  }
 ],
 "metadata": {
  "kernelspec": {
   "display_name": "Python 3",
   "language": "python",
   "name": "python3"
  },
  "language_info": {
   "codemirror_mode": {
    "name": "ipython",
    "version": 3
   },
   "file_extension": ".py",
   "mimetype": "text/x-python",
   "name": "python",
   "nbconvert_exporter": "python",
   "pygments_lexer": "ipython3",
   "version": "3.10.6"
  }
 },
 "nbformat": 4,
 "nbformat_minor": 2
}
