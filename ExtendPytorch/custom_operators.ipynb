{
 "cells": [
  {
   "cell_type": "markdown",
   "metadata": {},
   "source": [
    "# Pytorch 自定义算子\n",
    "\n",
    "PyTorch 提供了大量适用于张量的运算符库（例如 `torch.add`、`torch.sum` 等）。但是，您可能希望将新的自定义运算引入 PyTorch，并使其与 `torch.compile`、`autograd` 和 `torch.vmap` 等子系统配合使用。为此，您必须通过 Python [torch.library](https://pytorch.org/docs/stable/library.html) 文档或 C++ `TORCH_LIBRARY` API 将自定义算子注册到 PyTorch。"
   ]
  },
  {
   "cell_type": "markdown",
   "metadata": {},
   "source": [
    "## 使用 Python 编写自定义运算符\n",
    "\n",
    "请参阅[自定义 Python 运算符](https://pytorch.org/tutorials/advanced/python_custom_ops.html#python-custom-ops-tutorial)。\n",
    "\n",
    "如果出现以下情况，您可能希望使用 Python（而不是 C++）编写自定义算子：\n",
    "+ 您有一个 Python 函数，希望 PyTorch 将其视为不透明可调用函数，尤其是对于 `torch.compile` 和 `torch.export`。\n",
    "+ 您有一些与 C++/CUDA 内核的 Python 绑定，并希望它们与 PyTorch 子系统（如 `torch.compile` 或 `torch.autograd`）组合\n",
    "+ 您正在使用 Python（而不是仅使用 C++ 的环境，如 AOTInductor）。"
   ]
  },
  {
   "cell_type": "markdown",
   "metadata": {},
   "source": [
    "## 将自定义 C++/CUDA 代码与 PyTorch 集成\n",
    "\n",
    "请参阅[自定义 C++ 和 CUDA 运算符](https://pytorch.org/tutorials/advanced/cpp_custom_ops.html#cpp-custom-ops-tutorial)。\n",
    "\n",
    "如果满足以下条件，您可能希望使用 C++（而不是 Python）编写自定义算子：\n",
    "+ 您有自定义 C++/CUDA 代码。\n",
    "+ 您计划将此代码与 AOTInductor 一起使用以进行无 Python 推理。"
   ]
  },
  {
   "cell_type": "markdown",
   "metadata": {},
   "source": [
    "## 自定义运算符手册\n",
    "\n",
    "有关教程和此页面中未涵盖的信息，请参阅[自定义算子手册](https://docs.google.com/document/d/1_W62p8WJOQQUzPsJYa7s701JXt0qf2OfLub2sbkHOaU)（我们正在努力将信息移至我们的文档网站）。我们建议您首先阅读上述教程之一，然后使用自定义算子手册作为参考；它不打算从头到脚阅读。\n",
    "\n",
    "### 我应该何时创建自定义运算符？\n",
    "\n",
    "**如果您的操作可以表示为内置 PyTorch 运算符的组合，那么请将其编写为 Python 函数并调用它，而不是创建自定义运算符。**如果您要调用 PyTorch 无法理解的某些库（例如自定义 C/C++ 代码、自定义 CUDA 内核或 Python 绑定到 C/C++/CUDA 扩展），请使用算子注册 API 创建自定义运算符。\n",
    "\n",
    "### 为什么要创建自定义运算符？\n",
    "\n",
    "可以通过抓取 Tensor 的数据指针并将其传递给 pybind 内核来使用 C/C++/CUDA 内核。但是，这种方法无法与 PyTorch 子系统（如 `autograd`、`torch.compile`、`vmap` 等）组合使用。**为了使操作能够与 PyTorch 子系统组合使用，必须通过算子注册 API 进行注册。**"
   ]
  }
 ],
 "metadata": {
  "kernelspec": {
   "display_name": "Python 3",
   "language": "python",
   "name": "python3"
  },
  "language_info": {
   "name": "python",
   "version": "3.10.6"
  }
 },
 "nbformat": 4,
 "nbformat_minor": 2
}
